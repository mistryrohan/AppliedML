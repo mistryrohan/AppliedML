{
  "nbformat": 4,
  "nbformat_minor": 0,
  "metadata": {
    "colab": {
      "provenance": [],
      "gpuType": "T4"
    },
    "kernelspec": {
      "name": "python3",
      "display_name": "Python 3"
    },
    "language_info": {
      "name": "python"
    },
    "accelerator": "GPU"
  },
  "cells": [
    {
      "cell_type": "code",
      "execution_count": null,
      "metadata": {
        "colab": {
          "base_uri": "https://localhost:8080/"
        },
        "id": "5XpLC47oKrHj",
        "outputId": "5e16da1f-5ed7-4a0e-c02f-19cab213035e"
      },
      "outputs": [
        {
          "output_type": "stream",
          "name": "stdout",
          "text": [
            "2.6.0+cu124\n"
          ]
        }
      ],
      "source": [
        "# PyTorch is the most popular current framework and utilizes the GPU\n",
        "# A tensor is a numerical encoding of data / representation output of the neural network\n",
        "\n",
        "import torch\n",
        "import pandas as pd\n",
        "import numpy as np\n",
        "import matplotlib.pyplot as plt\n",
        "print(torch.__version__)"
      ]
    },
    {
      "cell_type": "code",
      "source": [
        "# Tensors, representing multidimensional numeric data\n",
        "\n",
        "# Scalar\n",
        "scalar = torch.tensor(7)\n",
        "scalar\n",
        "\n",
        "# Dimensions\n",
        "scalar.ndim # 0, no dimensions\n",
        "scalar.item # Get back the item 7\n",
        "\n",
        "# Vector, literally just a lin alg vector\n",
        "vector = torch.tensor([7, 7])\n",
        "vector.ndim # 1 dimension, number of pair of closing square brackets\n",
        "vector.shape # 2, same as numpy\n",
        "\n",
        "# Matrix\n",
        "MATRIX = torch.tensor([[7, 8], [9, 10]])\n",
        "MATRIX\n",
        "\n",
        "# Tensor, 3 square brackets\n",
        "TENSOR = torch.tensor([[[1, 3, 4], [4, 5, 6], [7, 8, 9]]])\n",
        "TENSOR.shape # 1 x 3 x 3, just a square in R3"
      ],
      "metadata": {
        "colab": {
          "base_uri": "https://localhost:8080/"
        },
        "id": "WFuMCN5L5cNk",
        "outputId": "ed807f99-3fd6-4592-a8e8-50b30e8cdf4a"
      },
      "execution_count": null,
      "outputs": [
        {
          "output_type": "execute_result",
          "data": {
            "text/plain": [
              "torch.Size([1, 3, 3])"
            ]
          },
          "metadata": {},
          "execution_count": 3
        }
      ]
    },
    {
      "cell_type": "code",
      "source": [
        "# Random tensors\n",
        "# The way neural networks learn is by adjusting the numbers in tensors to better represent the data\n",
        "random_tensor = torch.rand(3, 4)\n",
        "random_tensor\n",
        "\n",
        "# Similar to an image tensor\n",
        "image_size_tensor = torch.rand(size=(3, 224, 224)) # colour channels, height, width\n",
        "image_size_tensor.ndim"
      ],
      "metadata": {
        "colab": {
          "base_uri": "https://localhost:8080/"
        },
        "id": "XBjRj27b5_g-",
        "outputId": "c9c31858-95b7-4d30-d402-fb6f90215bde"
      },
      "execution_count": null,
      "outputs": [
        {
          "output_type": "execute_result",
          "data": {
            "text/plain": [
              "3"
            ]
          },
          "metadata": {},
          "execution_count": 4
        }
      ]
    },
    {
      "cell_type": "code",
      "source": [
        "# Zeros and Ones tensors\n",
        "\n",
        "zeroes = torch.zeros(size=(3, 4))\n",
        "ones = torch.ones(size=(3, 4))\n",
        "print(zeroes)\n",
        "print(ones)"
      ],
      "metadata": {
        "colab": {
          "base_uri": "https://localhost:8080/"
        },
        "id": "ccb1FNXNErgt",
        "outputId": "f4a2e71c-b1f6-4372-9ff9-ce4fa7e9a980"
      },
      "execution_count": null,
      "outputs": [
        {
          "output_type": "stream",
          "name": "stdout",
          "text": [
            "tensor([[0., 0., 0., 0.],\n",
            "        [0., 0., 0., 0.],\n",
            "        [0., 0., 0., 0.]])\n",
            "tensor([[1., 1., 1., 1.],\n",
            "        [1., 1., 1., 1.],\n",
            "        [1., 1., 1., 1.]])\n"
          ]
        }
      ]
    },
    {
      "cell_type": "code",
      "source": [
        "# Creating a range of tensors, use arange not range\n",
        "one_to_ten = torch.arange(1, 11)\n",
        "\n",
        "# Creating a \"like\" tensor\n",
        "ten_zeroes = torch.zeros_like(input=one_to_ten)\n",
        "print(ten_zeroes)\n",
        "\n",
        "# Datatypes, you can check using dtype, the default is float32\n",
        "# parameters that are also used are device and requires_grad\n",
        "float_tensor = torch.tensor([3.0, 6.0], dtype=torch.float64)\n",
        "print(float_tensor.dtype)"
      ],
      "metadata": {
        "colab": {
          "base_uri": "https://localhost:8080/"
        },
        "id": "jHVnmB43uXMF",
        "outputId": "b5d6d142-15c5-4279-ba21-0cb60481679f"
      },
      "execution_count": null,
      "outputs": [
        {
          "output_type": "stream",
          "name": "stdout",
          "text": [
            "tensor([0, 0, 0, 0, 0, 0, 0, 0, 0, 0])\n",
            "torch.float64\n"
          ]
        }
      ]
    },
    {
      "cell_type": "code",
      "source": [
        "# Tensor Operations\n",
        "\n",
        "tensor = torch.tensor([1, 2, 3])\n",
        "print(tensor + 10)\n",
        "print(tensor * 10)\n",
        "\n",
        "# Matrix multiplication, use matmul() or mm(), ensure shape is okay\n",
        "# matrix1 num columns = matrix 2 num rows\n",
        "# Ensure the inner dimensions match as well\n",
        "print(torch.matmul(tensor, tensor))\n",
        "\n",
        "tensor_A = torch.tensor([[1, 2], [3, 4], [5, 6]])\n",
        "tensor_B = torch.tensor([[7, 10], [8, 11], [9, 12]])\n",
        "\n",
        "# torch.mm(tensor_A, tensor_B) # 3x3 and 3x2 cannot be multiplied\n",
        "# To fix this issue, take the transpose of a matrix, which flips the rows and columns\n",
        "\n",
        "print(tensor_B.T) # .T does the transpose\n",
        "\n"
      ],
      "metadata": {
        "colab": {
          "base_uri": "https://localhost:8080/"
        },
        "id": "pxktnZFZvEvG",
        "outputId": "85b718cb-2b0b-4a7b-e9e8-436310819780"
      },
      "execution_count": null,
      "outputs": [
        {
          "output_type": "stream",
          "name": "stdout",
          "text": [
            "tensor([11, 12, 13])\n",
            "tensor([10, 20, 30])\n",
            "tensor(14)\n",
            "tensor([[ 7,  8,  9],\n",
            "        [10, 11, 12]])\n"
          ]
        }
      ]
    },
    {
      "cell_type": "code",
      "source": [
        "# Aggregate functions like min, max, sum\n",
        "\n",
        "x = torch.arange(0, 100, 10)\n",
        "print(x.max())\n",
        "print((x.type(torch.float32)).mean()) # Mean does not work on Long data\n",
        "\n",
        "# Argmax and Argmin, position of maxes and mins\n",
        "\n",
        "print(x.argmin())\n",
        "print(x.argmax())"
      ],
      "metadata": {
        "colab": {
          "base_uri": "https://localhost:8080/"
        },
        "id": "omP-GvfbdobZ",
        "outputId": "b8778e18-4ddd-4bb0-dd85-aa636e2e14ef"
      },
      "execution_count": null,
      "outputs": [
        {
          "output_type": "stream",
          "name": "stdout",
          "text": [
            "tensor(90)\n",
            "tensor(45.)\n",
            "tensor(0)\n",
            "tensor(9)\n"
          ]
        }
      ]
    },
    {
      "cell_type": "code",
      "source": [
        "# Stacking means we combine multiple tensors on top of each other or side-by-side, v/h stacks\n",
        "# Squeeze removes all 1 dimensions in a tensor\n",
        "# Unsqueeze adds a single dimension to a target tensor at a specific dimension\n",
        "# Permute returns a permutation of the tensor as a view\n",
        "\n",
        "import torch\n",
        "\n",
        "x = torch.arange(1., 10.)\n",
        "\n",
        "# Add an extra dimension\n",
        "x_reshaped = x.reshape(3, 3)\n",
        "print(x)\n",
        "print(x_reshaped)\n",
        "\n",
        "# Stacking\n",
        "\n",
        "x_stacked = torch.stack([x, x, x]) # dim = 0\n",
        "print(x_stacked)\n",
        "\n",
        "# Squeeze\n",
        "\n",
        "x = torch.tensor([[1, 2, 3]])\n",
        "print(x.shape)\n",
        "x_squeezed = x.squeeze()\n",
        "print(x_squeezed.shape)\n",
        "\n",
        "# Unsqueeze\n",
        "\n",
        "x_unsqueezed = x_squeezed.unsqueeze(dim=0)\n",
        "print(x_unsqueezed) # At 0th dimension\n",
        "\n",
        "# Permute, returns a view, with dimensions permuted\n",
        "# Used mostly with images\n",
        "\n",
        "x_original = torch.rand(size=(244, 244, 3))\n",
        "x_permuted = x_original.permute(2, 0, 1) # Puts index 2 to the front, colour channel first\n",
        "print(x_permuted.shape)"
      ],
      "metadata": {
        "colab": {
          "base_uri": "https://localhost:8080/"
        },
        "id": "0SsI-PQ51kcR",
        "outputId": "405f7f5f-6b59-48e8-bca5-b762968f7017"
      },
      "execution_count": null,
      "outputs": [
        {
          "output_type": "stream",
          "name": "stdout",
          "text": [
            "tensor([1., 2., 3., 4., 5., 6., 7., 8., 9.])\n",
            "tensor([[1., 2., 3.],\n",
            "        [4., 5., 6.],\n",
            "        [7., 8., 9.]])\n",
            "tensor([[1., 2., 3., 4., 5., 6., 7., 8., 9.],\n",
            "        [1., 2., 3., 4., 5., 6., 7., 8., 9.],\n",
            "        [1., 2., 3., 4., 5., 6., 7., 8., 9.]])\n",
            "torch.Size([1, 3])\n",
            "torch.Size([3])\n",
            "tensor([[1, 2, 3]])\n",
            "torch.Size([3, 244, 244])\n"
          ]
        }
      ]
    },
    {
      "cell_type": "code",
      "source": [
        "# Reproducibility, trying to take the random out of random\n",
        "# We just set a seed\n",
        "import torch\n",
        "\n",
        "rand_A = torch.rand(3, 4)\n",
        "rand_B = torch.rand(3, 4)\n",
        "\n",
        "print(rand_A)\n",
        "print(rand_B)"
      ],
      "metadata": {
        "id": "a7Fu4e1FaVEM",
        "colab": {
          "base_uri": "https://localhost:8080/"
        },
        "outputId": "8ea4d81f-b5cc-45fd-b7f2-92d893ae4b63"
      },
      "execution_count": null,
      "outputs": [
        {
          "output_type": "stream",
          "name": "stdout",
          "text": [
            "tensor([[0.6124, 0.6069, 0.6000, 0.9212],\n",
            "        [0.3275, 0.1157, 0.3193, 0.0451],\n",
            "        [0.3271, 0.3325, 0.2436, 0.5777]])\n",
            "tensor([[0.1258, 0.9163, 0.6318, 0.2888],\n",
            "        [0.7807, 0.5312, 0.8048, 0.7585],\n",
            "        [0.9591, 0.4767, 0.6500, 0.6347]])\n"
          ]
        }
      ]
    },
    {
      "cell_type": "code",
      "source": [
        "# Set a seed\n",
        "import torch\n",
        "\n",
        "RANDOM_SEED = 22\n",
        "torch.manual_seed(RANDOM_SEED) # Works for 1 block of code in a notebook,\n",
        "# so use it twice in my case\n",
        "\n",
        "rand_C = torch.rand(3, 4)\n",
        "rand_D = torch.rand(3, 4)\n",
        "\n",
        "print(rand_C)\n",
        "print(rand_D)"
      ],
      "metadata": {
        "colab": {
          "base_uri": "https://localhost:8080/"
        },
        "id": "LQweSwLF_VCC",
        "outputId": "7ed8e77b-0107-4fa5-b7cb-879ecead0021"
      },
      "execution_count": null,
      "outputs": [
        {
          "output_type": "stream",
          "name": "stdout",
          "text": [
            "tensor([[0.3659, 0.7025, 0.3104, 0.0097],\n",
            "        [0.6577, 0.1947, 0.9506, 0.6887],\n",
            "        [0.8174, 0.7575, 0.7492, 0.6874]])\n",
            "tensor([[0.2564, 0.0672, 0.9066, 0.9175],\n",
            "        [0.4236, 0.7978, 0.8594, 0.3660],\n",
            "        [0.6949, 0.3343, 0.6681, 0.4951]])\n"
          ]
        }
      ]
    },
    {
      "cell_type": "code",
      "source": [
        "# To use the GPU we change the device type on the tensor\n",
        "# NumPy only works with the CPU\n",
        "device = \"cuda\" if torch.cuda.is_available() else \"cpu\"\n",
        "print(device)"
      ],
      "metadata": {
        "colab": {
          "base_uri": "https://localhost:8080/"
        },
        "id": "Q9NvkWiWBBax",
        "outputId": "d5bed2f9-d6ac-415b-b384-3ce41259fa95"
      },
      "execution_count": null,
      "outputs": [
        {
          "output_type": "stream",
          "name": "stdout",
          "text": [
            "cuda\n"
          ]
        }
      ]
    }
  ]
}